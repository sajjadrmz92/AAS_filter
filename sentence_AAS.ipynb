{
 "cells": [
  {
   "cell_type": "code",
   "execution_count": 16,
   "metadata": {
    "scrolled": false
   },
   "outputs": [],
   "source": [
    "import nltk\n",
    "from nltk.translate import bleu_score\n",
    "from nltk.translate.bleu_score import sentence_bleu\n",
    "\n",
    "aas=open('AAS_normal.fa',encoding=\"utf8\")\n",
    "ma_fa=open('mizanansari.fa',encoding=\"utf8\")\n",
    "ma_en=open('mizanansari.en',encoding=\"utf8\")\n",
    "\n",
    "ma_fa_aas=open('mizanansari_aas.fa','w',encoding=\"utf8\")\n",
    "ma_en_aas=open('mizanansari_aas.en','w',encoding=\"utf8\")\n",
    "aas_new=open('ass_new.fa','w',encoding=\"utf8\")\n",
    "\n",
    "aas_lines=aas.readlines()\n",
    "ma_fa_lines=ma_fa.readlines()\n",
    "ma_en_lines=ma_en.readlines()"
   ]
  },
  {
   "cell_type": "code",
   "execution_count": 17,
   "metadata": {},
   "outputs": [],
   "source": [
    "aas_id=[]\n",
    "aas_value=[]\n",
    "for i in range(len(aas_lines)):\n",
    "    aas_id.append(i)\n",
    "    aas_value.append(aas_lines[i])    \n",
    "aas_touple=zip(aas_id,aas_value)"
   ]
  },
  {
   "cell_type": "code",
   "execution_count": 18,
   "metadata": {},
   "outputs": [],
   "source": [
    "aas_touple=tuple(aas_touple)\n",
    "aas_touple_reverse=sorted(aas_touple,reverse=True)"
   ]
  },
  {
   "cell_type": "code",
   "execution_count": 19,
   "metadata": {},
   "outputs": [],
   "source": [
    "id_list=[]\n",
    "for i, j in aas_touple_reverse:\n",
    "    id_list.append(i)"
   ]
  },
  {
   "cell_type": "code",
   "execution_count": 20,
   "metadata": {},
   "outputs": [],
   "source": [
    "for k in range(0,793807):\n",
    "    \n",
    "    ma_fa_aas.write(ma_fa_lines[id_list[k]])\n",
    "    ma_en_aas.write(ma_en_lines[id_list[k]])\n",
    "    \n",
    "ma_fa_aas.close()\n",
    "ma_en_aas.close()\n",
    "    \n",
    "#     print(ma_fa_lines[id_list[k]])\n",
    "#     print(ma_en_lines[id_list[k]])\n",
    "#     print(id_list[k])"
   ]
  },
  {
   "cell_type": "code",
   "execution_count": null,
   "metadata": {},
   "outputs": [],
   "source": []
  }
 ],
 "metadata": {
  "kernelspec": {
   "display_name": "Python 3",
   "language": "python",
   "name": "python3"
  },
  "language_info": {
   "codemirror_mode": {
    "name": "ipython",
    "version": 3
   },
   "file_extension": ".py",
   "mimetype": "text/x-python",
   "name": "python",
   "nbconvert_exporter": "python",
   "pygments_lexer": "ipython3",
   "version": "3.6.8"
  }
 },
 "nbformat": 4,
 "nbformat_minor": 2
}
